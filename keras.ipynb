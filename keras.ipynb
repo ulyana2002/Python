{
  "nbformat": 4,
  "nbformat_minor": 0,
  "metadata": {
    "colab": {
      "provenance": [],
      "authorship_tag": "ABX9TyNEjLPF1OYX1ujXEpx54FOH",
      "include_colab_link": true
    },
    "kernelspec": {
      "name": "python3",
      "display_name": "Python 3"
    },
    "language_info": {
      "name": "python"
    }
  },
  "cells": [
    {
      "cell_type": "markdown",
      "metadata": {
        "id": "view-in-github",
        "colab_type": "text"
      },
      "source": [
        "<a href=\"https://colab.research.google.com/github/ulyana2002/Python/blob/main/keras.ipynb\" target=\"_parent\"><img src=\"https://colab.research.google.com/assets/colab-badge.svg\" alt=\"Open In Colab\"/></a>"
      ]
    },
    {
      "cell_type": "code",
      "execution_count": 1,
      "metadata": {
        "id": "Z6m0nq4Qo_iT"
      },
      "outputs": [],
      "source": [
        "import numpy as np\n",
        "import matplotlib.pyplot as plt\n",
        "from tensorflow import keras\n",
        "from tensorflow.keras.layers import Dense\n"
      ]
    },
    {
      "cell_type": "markdown",
      "source": [
        "Обучающая выборка "
      ],
      "metadata": {
        "id": "LPCsNVhop7Z3"
      }
    },
    {
      "cell_type": "code",
      "source": [
        "c = np.array([-40, -10, 0, 8, 15, 22, 38])\n",
        "f = np.array([-40, 14, 32, 46, 59, 72, 100])\n",
        "\n",
        "model = keras.Sequential()\n",
        "model.add(Dense(units=1, input_shape=(1,), activation='linear'))\n",
        "\n",
        "model.compile(loss='mean_squared_error', optimizer=keras.optimizers.Adam(0.1))\n",
        "\n",
        "history = model.fit(c, f, epochs=500, verbose=0)\n",
        "\n",
        "plt.plot(history.history['loss'])\n",
        "plt.grid(True)\n",
        "plt.show()"
      ],
      "metadata": {
        "colab": {
          "base_uri": "https://localhost:8080/",
          "height": 265
        },
        "id": "ZDeatrhZqIOl",
        "outputId": "ea926ec8-f60f-41e4-d3c6-2ecacbd842d8"
      },
      "execution_count": 6,
      "outputs": [
        {
          "output_type": "display_data",
          "data": {
            "text/plain": [
              "<Figure size 432x288 with 1 Axes>"
            ],
            "image/png": "[encoded data removed]"
          },
          "metadata": {
            "needs_background": "light"
          }
        }
      ]
    },
    {
      "cell_type": "code",
      "source": [
        "print(model.predict([100]))"
      ],
      "metadata": {
        "colab": {
          "base_uri": "https://localhost:8080/"
        },
        "id": "QcRaiAp5r9kG",
        "outputId": "ea20e6f8-977a-4596-ed72-b65db505089a"
      },
      "execution_count": 7,
      "outputs": [
        {
          "output_type": "stream",
          "name": "stdout",
          "text": [
            "1/1 [==============================] - 0s 71ms/step\n",
            "[[211.30774]]\n"
          ]
        }
      ]
    },
    {
      "cell_type": "code",
      "source": [
        "print(model.get_weights())"
      ],
      "metadata": {
        "colab": {
          "base_uri": "https://localhost:8080/"
        },
        "id": "n_bzjZ72sO9x",
        "outputId": "741f80b2-288b-40fa-b074-62ae21928209"
      },
      "execution_count": 5,
      "outputs": [
        {
          "output_type": "stream",
          "name": "stdout",
          "text": [
            "[array([[1.943578]], dtype=float32), array([29.744843], dtype=float32)]\n"
          ]
        }
      ]
    }
  ]
}